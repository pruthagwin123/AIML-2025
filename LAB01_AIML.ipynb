{
  "nbformat": 4,
  "nbformat_minor": 0,
  "metadata": {
    "colab": {
      "provenance": [],
      "authorship_tag": "ABX9TyM5fpAA4gUXJkGQbiWNqyDO",
      "include_colab_link": true
    },
    "kernelspec": {
      "name": "python3",
      "display_name": "Python 3"
    },
    "language_info": {
      "name": "python"
    }
  },
  "cells": [
    {
      "cell_type": "markdown",
      "metadata": {
        "id": "view-in-github",
        "colab_type": "text"
      },
      "source": [
        "<a href=\"https://colab.research.google.com/github/pruthagwin123/AIML-2025/blob/main/LAB01_AIML.ipynb\" target=\"_parent\"><img src=\"https://colab.research.google.com/assets/colab-badge.svg\" alt=\"Open In Colab\"/></a>"
      ]
    },
    {
      "cell_type": "markdown",
      "source": [
        "Lab -01: Introduction to Python, matplotlib, Numpy\n"
      ],
      "metadata": {
        "id": "2aKQP51WTaCe"
      }
    },
    {
      "cell_type": "markdown",
      "source": [
        "Part 1: Implement basic data strcutures using Numpy, Pandas\n",
        "\n"
      ],
      "metadata": {
        "id": "lFNtMaSHTokW"
      }
    },
    {
      "cell_type": "code",
      "source": [
        "import numpy as np\n",
        "import matplotlib.pyplot as plt\n",
        "import pandas as pd\n",
        "## Create a list, array\n",
        "list1 = [1,2,3,4]\n",
        "array1  = np.array(list1)\n",
        "array1\n",
        "array2 = np.array([1,2,3,4])\n",
        "list1, array1, array2\n"
      ],
      "metadata": {
        "id": "rot8KcIEUDLV",
        "outputId": "4e9a2ee3-dd41-4f8c-f21d-e2e6d5e7a7d8",
        "colab": {
          "base_uri": "https://localhost:8080/"
        }
      },
      "execution_count": 5,
      "outputs": [
        {
          "output_type": "execute_result",
          "data": {
            "text/plain": [
              "([1, 2, 3, 4], array([1, 2, 3, 4]), array([1, 2, 3, 4]))"
            ]
          },
          "metadata": {},
          "execution_count": 5
        }
      ]
    },
    {
      "cell_type": "code",
      "source": [
        "## Identify the type of Data structure\n",
        "type(list1), type(array1), type(array2)"
      ],
      "metadata": {
        "id": "fUdaXultUmQf",
        "outputId": "d6d3130c-755f-40b1-a5a7-b6c461e3a33a",
        "colab": {
          "base_uri": "https://localhost:8080/"
        }
      },
      "execution_count": 6,
      "outputs": [
        {
          "output_type": "execute_result",
          "data": {
            "text/plain": [
              "(list, numpy.ndarray, numpy.ndarray)"
            ]
          },
          "metadata": {},
          "execution_count": 6
        }
      ]
    },
    {
      "cell_type": "code",
      "source": [
        "## Perform Mathematical operations on arrays, lists\n",
        "print(\"Adding two arrays:\", array1 + array2)\n",
        "print(\"Subtracting two arrays: array1 - array2\")\n",
        "print(\"Multiplying two arrays: array1 * array2\")\n",
        "print(\"Dividing two arrays: array1 / array2)\")\n",
        "print(\"Exponentiating two arrays: array1 ** array2\")\n",
        "print(\"Multiply array to list: array2 * list1\")\n",
        ""
      ],
      "metadata": {
        "id": "v8Dtk4WeU1Ip",
        "outputId": "c1275611-b60d-461b-ffa4-0c98d8ef2425",
        "colab": {
          "base_uri": "https://localhost:8080/"
        }
      },
      "execution_count": 7,
      "outputs": [
        {
          "output_type": "stream",
          "name": "stdout",
          "text": [
            "Adding two arrays: [2 4 6 8]\n",
            "Subtracting two arrays: array1 - array2\n",
            "Multiplying two arrays: array1 * array2\n",
            "Dividing two arrays: array1 / array2)\n",
            "Exponentiating two arrays: array1 ** array2\n",
            "Multiply array to list: array2 * list1\n"
          ]
        }
      ]
    },
    {
      "cell_type": "code",
      "source": [
        "# Combine text with Numpy function\n",
        "print(f\"Adding {array1} with {array2}\")\n",
        "print(f\"Result: {np.add(array1, array2)}\")"
      ],
      "metadata": {
        "id": "dIBDXQTLVA-w",
        "outputId": "09e94b21-830f-4f2b-f084-a1fc6956de93",
        "colab": {
          "base_uri": "https://localhost:8080/"
        }
      },
      "execution_count": 8,
      "outputs": [
        {
          "output_type": "stream",
          "name": "stdout",
          "text": [
            "Adding [1 2 3 4] with [1 2 3 4]\n",
            "Result: [2 4 6 8]\n"
          ]
        }
      ]
    },
    {
      "cell_type": "code",
      "source": [
        "# Find the Sin, Log, Log2, Exp values\n",
        "print(f\"Sine value of array1:{np.sin(array1)}\")\n",
        "print(f\"Log value of array1:{np.log(array1)}\")\n",
        "print(f\"Log base 2 value of array1:{np.log2(array1)}\")\n",
        "print(f\"Log base 10 value of array1:{np.log10(array1)}\")\n",
        "print(f\"Exponential value of array1:{np.exp(array1)}\")"
      ],
      "metadata": {
        "id": "n-267VJ7VWBF",
        "outputId": "05ca1cd1-4fe9-4c01-9a24-ca25b8ac686d",
        "colab": {
          "base_uri": "https://localhost:8080/"
        }
      },
      "execution_count": 9,
      "outputs": [
        {
          "output_type": "stream",
          "name": "stdout",
          "text": [
            "Sine value of array1:[ 0.84147098  0.90929743  0.14112001 -0.7568025 ]\n",
            "Log value of array1:[0.         0.69314718 1.09861229 1.38629436]\n",
            "Log base 2 value of array1:[0.        1.        1.5849625 2.       ]\n",
            "Log base 10 value of array1:[0.         0.30103    0.47712125 0.60205999]\n",
            "Exponential value of array1:[ 2.71828183  7.3890561  20.08553692 54.59815003]\n"
          ]
        }
      ]
    }
  ]
}